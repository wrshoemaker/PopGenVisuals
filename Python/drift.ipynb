{
 "cells": [
  {
   "cell_type": "code",
   "execution_count": 1,
   "metadata": {},
   "outputs": [],
   "source": [
    "%matplotlib inline\n",
    "from __future__ import division\n",
    "from ipywidgets import interactive\n",
    "import matplotlib.pyplot as plt\n",
    "import numpy as np\n",
    "import popGenSims as pgs"
   ]
  },
  {
   "cell_type": "code",
   "execution_count": 2,
   "metadata": {},
   "outputs": [],
   "source": [
    "def driftFig(N):\n",
    "    reps = 50\n",
    "    s = 0\n",
    "    x_range = 500\n",
    "    n1 = int(N / 2)\n",
    "    sims = pgs.multipleDriftSims(n1 = n1, N = N, s = s, reps = reps)\n",
    "    fig = plt.figure(figsize=(8, 5))\n",
    "    ax = fig.add_subplot(1, 1, 1)\n",
    "    plt.xlabel('Generation', fontsize=20)\n",
    "    if s != 0:\n",
    "        plt.ylabel('Frequency of beneficial allele', fontsize=20)\n",
    "    else:\n",
    "        plt.ylabel('Allele frequency', fontsize=20)\n",
    "    for sim in sims:\n",
    "        plt.plot(sim[0], sim[1], c = 'b', alpha = 0.5)\n",
    "    fig.tight_layout()\n",
    "    ax.set_xlim(0, x_range)\n",
    "    plt.show()"
   ]
  },
  {
   "cell_type": "code",
   "execution_count": 3,
   "metadata": {},
   "outputs": [
    {
     "data": {
      "application/vnd.jupyter.widget-view+json": {
       "model_id": "095de1b62c97465aa801fd3f73dff44a",
       "version_major": 2,
       "version_minor": 0
      },
      "text/plain": [
       "aW50ZXJhY3RpdmUoY2hpbGRyZW49KEludFNsaWRlcih2YWx1ZT01MDAwLCBkZXNjcmlwdGlvbj11J04nLCBtYXg9MTAwMDAsIG1pbj0xKSwgT3V0cHV0KGxheW91dD1MYXlvdXQoaGVpZ2h0PXXigKY=\n"
      ]
     },
     "metadata": {},
     "output_type": "display_data"
    }
   ],
   "source": [
    "interactive_plot = interactive(driftFig, N=(1, 10000))\n",
    "output = interactive_plot.children[-1]\n",
    "output.layout.height = '350px'\n",
    "interactive_plot"
   ]
  },
  {
   "cell_type": "code",
   "execution_count": 4,
   "metadata": {},
   "outputs": [],
   "source": [
    "def driftSelectFig(N, s):\n",
    "    reps = 500\n",
    "    x_range = 500\n",
    "    n1 = 1\n",
    "    sims = pgs.multipleDriftSims(n1 = n1, N = N, s = s, reps = reps)\n",
    "    fig = plt.figure(figsize=(8, 5))\n",
    "    ax = fig.add_subplot(1, 1, 1)\n",
    "    plt.xlabel('Generation', fontsize=20)\n",
    "    if s != 0:\n",
    "        plt.ylabel('Frequency of beneficial allele', fontsize=20)\n",
    "    else:\n",
    "        plt.ylabel('Allele frequency', fontsize=20)\n",
    "    for sim in sims:\n",
    "        plt.plot(sim[0], sim[1], c = 'b', alpha = 0.5)\n",
    "    fig.tight_layout()\n",
    "    #ax.set_xlim(0, x_range)\n",
    "    plt.show()"
   ]
  },
  {
   "cell_type": "code",
   "execution_count": 6,
   "metadata": {},
   "outputs": [
    {
     "data": {
      "application/vnd.jupyter.widget-view+json": {
       "model_id": "e55e352b5a3345f1b7c22dd1a4776596",
       "version_major": 2,
       "version_minor": 0
      },
      "text/plain": [
       "aW50ZXJhY3RpdmUoY2hpbGRyZW49KEludFNsaWRlcih2YWx1ZT01MDAwLCBkZXNjcmlwdGlvbj11J04nLCBtYXg9MTAwMDAsIG1pbj0xKSwgRmxvYXRTbGlkZXIodmFsdWU9MC4wNTA1LCBkZXPigKY=\n"
      ]
     },
     "metadata": {},
     "output_type": "display_data"
    }
   ],
   "source": [
    "interactive_plot = interactive(driftSelectFig, N=(1, 10000), s=(0.001, 0.1, 0.0001))\n",
    "output = interactive_plot.children[-1]\n",
    "output.layout.height = '350px'\n",
    "interactive_plot"
   ]
  },
  {
   "cell_type": "code",
   "execution_count": null,
   "metadata": {
    "collapsed": true
   },
   "outputs": [],
   "source": []
  }
 ],
 "metadata": {
  "kernelspec": {
   "display_name": "Python 2",
   "language": "python",
   "name": "python2"
  },
  "language_info": {
   "codemirror_mode": {
    "name": "ipython",
    "version": 2
   },
   "file_extension": ".py",
   "mimetype": "text/x-python",
   "name": "python",
   "nbconvert_exporter": "python",
   "pygments_lexer": "ipython2",
   "version": "2.7.14"
  }
 },
 "nbformat": 4,
 "nbformat_minor": 2
}
