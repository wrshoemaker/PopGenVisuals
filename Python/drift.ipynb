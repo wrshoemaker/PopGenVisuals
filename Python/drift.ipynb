{
 "cells": [
  {
   "cell_type": "code",
   "execution_count": 19,
   "metadata": {
    "collapsed": true
   },
   "outputs": [],
   "source": [
    "%matplotlib inline\n",
    "from __future__ import division\n",
    "from ipywidgets import interactive\n",
    "import matplotlib.pyplot as plt\n",
    "import numpy as np\n",
    "import popGenSims as pgs"
   ]
  },
  {
   "cell_type": "code",
   "execution_count": 33,
   "metadata": {},
   "outputs": [],
   "source": [
    "def driftFig(N):\n",
    "    reps = 50\n",
    "    s = 0\n",
    "    x_range = 500\n",
    "    n1 = int(N / 2)\n",
    "    sims = pgs.multipleDriftSims(n1 = n1, N = N, s = s, reps = reps)\n",
    "    fig = plt.figure(figsize=(8, 5))\n",
    "    ax = fig.add_subplot(1, 1, 1)\n",
    "    plt.xlabel('Generation', fontsize=20)\n",
    "    if s != 0:\n",
    "        plt.ylabel('Frequency of beneficial allele', fontsize=20)\n",
    "    else:\n",
    "        plt.ylabel('Allele frequency', fontsize=20)\n",
    "    for sim in sims:\n",
    "        plt.plot(sim[0], sim[1], c = 'b', alpha = 0.5)\n",
    "    fig.tight_layout()\n",
    "    ax.set_xlim(0, x_range)\n",
    "    plt.show()"
   ]
  },
  {
   "cell_type": "code",
   "execution_count": 35,
   "metadata": {},
   "outputs": [
    {
     "data": {
      "application/vnd.jupyter.widget-view+json": {
       "model_id": "8211623c8d6945e999157da6c645c28a"
      }
     },
     "metadata": {},
     "output_type": "display_data"
    }
   ],
   "source": [
    "interactive_plot = interactive(driftFig, N=(1, 10000))\n",
    "output = interactive_plot.children[-1]\n",
    "output.layout.height = '350px'\n",
    "interactive_plot"
   ]
  },
  {
   "cell_type": "code",
   "execution_count": 24,
   "metadata": {
    "collapsed": true
   },
   "outputs": [],
   "source": [
    "def driftSelectFig(N, s):\n",
    "    reps = 500\n",
    "    x_range = 500\n",
    "    n1 = 1\n",
    "    sims = pgs.multipleDriftSims(n1 = n1, N = N, s = s, reps = reps)\n",
    "    fig = plt.figure(figsize=(8, 5))\n",
    "    ax = fig.add_subplot(1, 1, 1)\n",
    "    plt.xlabel('Generation', fontsize=20)\n",
    "    if s != 0:\n",
    "        plt.ylabel('Frequency of beneficial allele', fontsize=20)\n",
    "    else:\n",
    "        plt.ylabel('Allele frequency', fontsize=20)\n",
    "    for sim in sims:\n",
    "        plt.plot(sim[0], sim[1], c = 'b', alpha = 0.5)\n",
    "    fig.tight_layout()\n",
    "    #ax.set_xlim(0, x_range)\n",
    "    plt.show()"
   ]
  },
  {
   "cell_type": "code",
   "execution_count": 18,
   "metadata": {},
   "outputs": [
    {
     "data": {
      "application/vnd.jupyter.widget-view+json": {
       "model_id": "2e24749420764e95a3a51863882fa7af"
      }
     },
     "metadata": {},
     "output_type": "display_data"
    }
   ],
   "source": [
    "interactive_plot = interactive(driftFig, N=(1, 10000), s=(0.001, 0.1, 0.0001))\n",
    "output = interactive_plot.children[-1]\n",
    "output.layout.height = '350px'\n",
    "interactive_plot"
   ]
  },
  {
   "cell_type": "code",
   "execution_count": null,
   "metadata": {
    "collapsed": true
   },
   "outputs": [],
   "source": []
  }
 ],
 "metadata": {
  "kernelspec": {
   "display_name": "Python 2",
   "language": "python",
   "name": "python2"
  },
  "language_info": {
   "codemirror_mode": {
    "name": "ipython",
    "version": 2
   },
   "file_extension": ".py",
   "mimetype": "text/x-python",
   "name": "python",
   "nbconvert_exporter": "python",
   "pygments_lexer": "ipython2",
   "version": "2.7.13"
  }
 },
 "nbformat": 4,
 "nbformat_minor": 2
}
